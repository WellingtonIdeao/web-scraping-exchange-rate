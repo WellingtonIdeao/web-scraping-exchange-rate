{
 "cells": [
  {
   "cell_type": "code",
   "execution_count": null,
   "metadata": {},
   "outputs": [],
   "source": [
    "#importando bibliotecas\n",
    "from selenium import webdriver\n",
    "from selenium.webdriver.common.keys import Keys\n",
    "\n",
    "# buscando as cotacoes na web\n",
    "\n",
    "# Cotacao Dolar\n",
    "\n",
    "# abrindo google chrome\n",
    "browser = webdriver.Chrome()\n",
    "\n",
    "# acessando google.com\n",
    "browser.get('https://www.google.com/')\n",
    "\n",
    "# selecionando caixa de busca no site da google via xpath\n",
    "search = browser.find_element_by_xpath('/html/body/div[1]/div[3]/form/div[1]/div[1]/div[1]/div/div[2]/input')\n",
    "search.send_keys('cotação dolar')\n",
    "search.send_keys(Keys.ENTER)\n",
    "\n",
    "dolar_field = browser.find_element_by_xpath('//*[@id=\"knowledge-currency__updatable-data-column\"]/div[1]/div[2]/span[1]')\n",
    "\n",
    "dolar_value =  dolar_field.get_attribute('data-value')\n",
    "\n",
    "# abrindo uma nova aba\n",
    "# browser.find_element_by_tag_name('body').send_keys(Keys.CONTROL + 't')\n",
    "# javascript snippet\n",
    "browser.execute_script(\"window.open('https://www.google.com/','_blank')\")\n",
    "\n",
    "#altenando de aba\n",
    "new_tab = browser.window_handles[1]\n",
    "browser.switch_to.window(new_tab)"
   ]
  },
  {
   "cell_type": "code",
   "execution_count": null,
   "metadata": {},
   "outputs": [],
   "source": [
    "# Cotacao Euro\n",
    "\n",
    "# selecionando caixa de busca no site da google via xpath\n",
    "search = browser.find_element_by_xpath('/html/body/div[1]/div[3]/form/div[1]/div[1]/div[1]/div/div[2]/input')\n",
    "search.send_keys('cotação euro')\n",
    "search.send_keys(Keys.ENTER)\n",
    "\n",
    "euro_field = browser.find_element_by_xpath('//*[@id=\"knowledge-currency__updatable-data-column\"]/div[1]/div[2]/span[1]')\n",
    "euro_value =  euro_field.get_attribute('data-value')\n",
    "\n",
    "# abrindo uma nova aba\n",
    "# javascript snippet\n",
    "browser.execute_script(\"window.open('https://www.melhorcambio.com/ouro-hoje','_blank')\")\n",
    "\n",
    "#altenando de aba\n",
    "new_tab = browser.window_handles[2]\n",
    "browser.switch_to.window(new_tab)"
   ]
  },
  {
   "cell_type": "code",
   "execution_count": null,
   "metadata": {},
   "outputs": [],
   "source": [
    "# Cotacao Ouro\n",
    "\n",
    "\"\"\"\n",
    "abrindo google chrome\n",
    "site = 'https://www.melhorcambio.com/ouro-hoje'\n",
    "browser = webdriver.Chrome()\n",
    "browser.get(site)\n",
    "main_window = browser.current_window_handle\n",
    "\"\"\"\n",
    "\n",
    "# ouro_icon_click = browser.find_element_by_xpath('//*[@id=\"dock\"]/ul/li[4]/a').click()\n",
    "\n",
    "ouro_value = browser.find_element_by_id('comercial').get_attribute('value')\n",
    "ouro_value = ouro_value.replace(',', '.')\n",
    "\n",
    "# fecha navegador\n",
    "browser.quit()"
   ]
  },
  {
   "cell_type": "code",
   "execution_count": null,
   "metadata": {},
   "outputs": [],
   "source": [
    "# importando, atualizando e exportando planilha\n",
    "import pandas as pd\n",
    "\n",
    "#importando planilha\n",
    "df = pd.read_excel('Produtos.xlsx')\n",
    "\n",
    "# mostrando planilha original\n",
    "display(df)\n",
    "\n",
    "# atualizando cotacoes das moedas\n",
    "df.loc[df['Moeda']=='Dólar', 'Cotação'] = float(dolar_value)\n",
    "df.loc[df['Moeda']=='Euro', 'Cotação'] = float(euro_value)\n",
    "df.loc[df['Moeda']=='Ouro', 'Cotação'] = float(ouro_value)\n",
    "\n",
    "# calculando novos valores para as colunas\n",
    "df['Preço Base Reais'] = df['Preço Base Original'] * df['Cotação']\n",
    "df['Preço Final'] = df['Preço Base Reais'] * df['Ajuste']\n",
    "\n",
    "# mostrar planilha atualizada\n",
    "display(df)\n",
    "\n",
    "# exportando o resultado para uma planilha excel\n",
    "df.to_excel('Produtos_atualizado.xlsx', index=False)"
   ]
  }
 ],
 "metadata": {
  "kernelspec": {
   "display_name": "Python 3",
   "language": "python",
   "name": "python3"
  },
  "language_info": {
   "codemirror_mode": {
    "name": "ipython",
    "version": 3
   },
   "file_extension": ".py",
   "mimetype": "text/x-python",
   "name": "python",
   "nbconvert_exporter": "python",
   "pygments_lexer": "ipython3",
   "version": "3.8.5"
  }
 },
 "nbformat": 4,
 "nbformat_minor": 4
}
